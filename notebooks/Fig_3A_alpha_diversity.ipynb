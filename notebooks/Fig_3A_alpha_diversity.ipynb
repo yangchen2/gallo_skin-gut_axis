{
 "cells": [
  {
   "attachments": {},
   "cell_type": "markdown",
   "metadata": {},
   "source": [
    "# Fig 3A: Alpha diversity plot"
   ]
  },
  {
   "cell_type": "code",
   "execution_count": 1,
   "metadata": {},
   "outputs": [],
   "source": [
    "# import Python packages\n",
    "import biom\n",
    "from matplotlib.gridspec import GridSpec\n",
    "import matplotlib.pyplot as plt\n",
    "import numpy as np\n",
    "import pandas as pd\n",
    "import scipy\n",
    "import scipy.stats as ss\n",
    "import seaborn as sns\n",
    "import skbio\n",
    "from skbio.diversity import alpha_diversity\n",
    "from skbio.stats.distance import permanova\n",
    "from skbio.stats.ordination import OrdinationResults\n",
    "from skbio import DistanceMatrix\n",
    "from statsmodels.stats.multitest import multipletests\n",
    "from itertools import combinations\n",
    "from numpy import array\n",
    "from numpy.random import RandomState"
   ]
  },
  {
   "cell_type": "code",
   "execution_count": 2,
   "metadata": {},
   "outputs": [],
   "source": [
    "# read in biom table\n",
    "biom_tbl = biom.load_table(\"../data/taxonomic_table_zebra-filt.biom\")\n",
    "biom_tbl = biom_tbl.to_dataframe().T \n",
    "\n",
    "# convert data to array for rarefaction\n",
    "data_arr = array(biom_tbl) "
   ]
  },
  {
   "cell_type": "code",
   "execution_count": 3,
   "metadata": {},
   "outputs": [],
   "source": [
    "# rarefy array table (rarefaction adjusts for differences in library sizes across samples to aid comparisons of alpha diversity) \n",
    "\n",
    "#find min sampling depth\n",
    "sampling_depth_tbl = pd.DataFrame(index = biom_tbl.index)\n",
    "sampling_depth_tbl['sampling_depth'] = biom_tbl.sum(axis = 1)\n",
    "sampling_depth_sorted_tbl = sampling_depth_tbl.sort_values(by='sampling_depth', ascending = False)\n",
    "min_depth = int(min(sampling_depth_sorted_tbl['sampling_depth']))\n",
    "\n",
    "# rarefaction function\n",
    "def rarefaction(M, seed=42):\n",
    "    prng = RandomState(seed) # reproducible results\n",
    "    noccur = np.sum(M, axis=1) # number of occurrences for each sample\n",
    "    nvar = M.shape[1] # number of variables\n",
    "    depth = min_depth\n",
    "\n",
    "    Mrarefied = np.empty_like(M)\n",
    "    for i in range(M.shape[0]): # for each sample\n",
    "        p = M[i] / float(noccur[i]) # relative frequency / probability\n",
    "        choice = prng.choice(nvar, depth, p=p)\n",
    "        Mrarefied[i] = np.bincount(choice, minlength=nvar)\n",
    "\n",
    "    return Mrarefied\n",
    "\n",
    "# rarefy array table\n",
    "data_arr_rare = rarefaction(data_arr)"
   ]
  },
  {
   "cell_type": "code",
   "execution_count": 4,
   "metadata": {},
   "outputs": [],
   "source": [
    "# compute alpha diversity by shannon index\n",
    "sample_ids = list(biom_tbl.index)\n",
    "otu_ids = list(biom_tbl.columns)\n",
    "\n",
    "alpha_shannon = alpha_diversity('shannon', data_arr_rare, ids = sample_ids) # calculate shannon diversity\n",
    "alpha_shannon = pd.DataFrame(alpha_shannon, columns = ['shannon_index']) # convert to table \n",
    "\n",
    "alpha_shannon[\"mouse_type\"] = \"\" # add column for mouse type\n",
    "match_dict ={'Con' : 'Ctrl', 'Wound' : 'Wound', 'Vanco' : 'Vanco'} # create match dictionary\n",
    "for key in match_dict:\n",
    "    alpha_shannon.loc[alpha_shannon.index.str.contains(key, case=True), 'mouse_type'] = match_dict[key]\n",
    "\n",
    "ctrl_alpha = alpha_shannon[alpha_shannon[\"mouse_type\"] == \"Ctrl\"][\"shannon_index\"] # subset groups for boxplot \n",
    "wound_alpha = alpha_shannon[alpha_shannon[\"mouse_type\"] == \"Wound\"][\"shannon_index\"]\n",
    "vanco_alpha = alpha_shannon[alpha_shannon[\"mouse_type\"] == \"Vanco\"][\"shannon_index\"]"
   ]
  },
  {
   "cell_type": "code",
   "execution_count": 5,
   "metadata": {},
   "outputs": [],
   "source": [
    "# create color palette\n",
    "my_colors = sns.set_palette(sns.color_palette([\"#0000FF\", \"#FF0000\", \"#FFD700\"])) \n",
    "\n",
    "mouse_types = [\"Ctrl\", \"Wound\", \"Vanco\"]\n",
    "palette = dict(zip(\n",
    "    mouse_types,\n",
    "    sns.color_palette(my_colors, len(mouse_types))\n",
    "\n",
    "))"
   ]
  },
  {
   "cell_type": "code",
   "execution_count": 6,
   "metadata": {},
   "outputs": [
    {
     "data": {
      "image/png": "[encoded data removed]",
      "text/plain": [
       "<Figure size 354.331x433.071 with 1 Axes>"
      ]
     },
     "metadata": {},
     "output_type": "display_data"
    }
   ],
   "source": [
    "# create alpha diversity plot\n",
    "mm = 1/25.4\n",
    "fig, ax = plt.subplots(1, 1, figsize=(90*mm, 110*mm))\n",
    "\n",
    "order = []\n",
    "yticklabels = []\n",
    "\n",
    "for i, (mouse_type, mouse_type_df) in enumerate(alpha_shannon.groupby(\"mouse_type\")):\n",
    "    color = palette[mouse_type]\n",
    "    color2 = list(color) + [0.3]\n",
    "    vals = mouse_type_df[\"shannon_index\"]\n",
    "\n",
    "    bp = ax.boxplot(\n",
    "        vals,\n",
    "        positions=[i],\n",
    "        widths=0.5,\n",
    "        vert=True,\n",
    "        patch_artist=True\n",
    "    )\n",
    "    for element in [\"boxes\", \"whiskers\", \"fliers\", \"medians\", \"caps\"]:\n",
    "        plt.setp(bp[element], color=color, lw=2)\n",
    "    for box in bp[\"boxes\"]:\n",
    "        plt.setp(box, facecolor=color2, edgecolor=color)\n",
    "\n",
    "    order.append(mouse_type)\n",
    "#     yticklabels.append(f\"{mouse_type} (n = {len(mouse_type_df)})\")\n",
    "\n",
    "sns.stripplot(\n",
    "    data=alpha_shannon,\n",
    "    y=\"shannon_index\",\n",
    "    x=\"mouse_type\",\n",
    "    ax=ax,\n",
    "    order=order,\n",
    "    palette=palette,\n",
    "    hue=\"mouse_type\",\n",
    "    s=8,\n",
    ")\n",
    "\n",
    "ax.set_xlabel(\"\")\n",
    "ax.set_ylabel(\"Shannon Alpha Diversity\", fontsize = 7)\n",
    "plt.yticks(fontsize=7)\n",
    "\n",
    "ax.plot([0, 0, 1, 1], [3.45, 3.5, 3.5, 3.45], linewidth=0.5, color='k')\n",
    "ax.text(0.1, 3.55, '* p-val = 0.048', fontsize=7)\n",
    "plt.plot([1, 1, 2, 2], [3.55, 3.6, 3.6, 3.55], linewidth=0.5, color='k')\n",
    "ax.text(1.00, 3.65, '*** p-val = 5.65e-7', fontsize=7)\n",
    "plt.plot([0, 0, 2, 2], [3.85, 3.9, 3.9, 3.85], linewidth=0.5, color='k')\n",
    "ax.text(0.55, 3.95, '** p-val = 0.008', fontsize=7)\n",
    "\n",
    "ax.set_xticklabels([\"Control\", 'Vancomycin', 'Wound'], fontsize = 7)\n",
    "\n",
    "ax.spines[\"right\"].set_visible(False)\n",
    "ax.spines[\"top\"].set_visible(False)\n",
    "ax.legend().set_visible(False)\n",
    "\n",
    "plt.tight_layout()\n",
    "plt.savefig(\"../plots/Fig_3A_alpha_diversity.png\", dpi = 600)\n",
    "plt.show()"
   ]
  }
 ],
 "metadata": {
  "kernelspec": {
   "display_name": "microbiome_plots",
   "language": "python",
   "name": "python3"
  },
  "language_info": {
   "codemirror_mode": {
    "name": "ipython",
    "version": 3
   },
   "file_extension": ".py",
   "mimetype": "text/x-python",
   "name": "python",
   "nbconvert_exporter": "python",
   "pygments_lexer": "ipython3",
   "version": "3.8.16"
  }
 },
 "nbformat": 4,
 "nbformat_minor": 4
}
